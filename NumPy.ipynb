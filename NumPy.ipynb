{
 "cells": [
  {
   "cell_type": "code",
   "execution_count": 11,
   "id": "14b09193",
   "metadata": {},
   "outputs": [],
   "source": [
    "import numpy as np"
   ]
  },
  {
   "cell_type": "code",
   "execution_count": 15,
   "id": "e4034bfb",
   "metadata": {},
   "outputs": [
    {
     "name": "stdout",
     "output_type": "stream",
     "text": [
      "[1, 2, 3]\n",
      "[(1, 2, 3), ('a', 'b', 'c')]\n",
      "[1 2 3]\n",
      "[['1' '2' '3']\n",
      " ['a' 'b' 'c']]\n"
     ]
    }
   ],
   "source": [
    "#creating 1D & 2D array\n",
    "\n",
    "num1D=[1,2,3]                      #creating list\n",
    "print(num1D)                         #printing list \n",
    "num2D=[(1,2,3),(\"a\",'b','c')]           #creating 2 list in one tuple\n",
    "print(num2D)                            #printing\n",
    "num1D=np.array(num1D)              #converting list to array\n",
    "print(num1D)                      #printing 1D array \n",
    "num2D=np.array(num2D)             #converting list to array \n",
    "print(num2D)                     #printing 2D Array "
   ]
  },
  {
   "cell_type": "code",
   "execution_count": 18,
   "id": "ceea84d8",
   "metadata": {},
   "outputs": [
    {
     "name": "stdout",
     "output_type": "stream",
     "text": [
      "[[1. 0. 0. 0. 0.]\n",
      " [0. 1. 0. 0. 0.]\n",
      " [0. 0. 1. 0. 0.]\n",
      " [0. 0. 0. 1. 0.]\n",
      " [0. 0. 0. 0. 1.]]\n"
     ]
    }
   ],
   "source": [
    "#printing n*n identity matrix\n",
    "\n",
    "\n",
    "print(np.eye(5))"
   ]
  },
  {
   "cell_type": "code",
   "execution_count": 58,
   "id": "884030f5",
   "metadata": {},
   "outputs": [
    {
     "data": {
      "text/plain": [
       "array([0.15198961, 0.21034084, 0.58143153, 0.80963801, 0.63619195])"
      ]
     },
     "execution_count": 58,
     "metadata": {},
     "output_type": "execute_result"
    }
   ],
   "source": [
    "np.random.rand(5)   #printing 3 random numbers "
   ]
  },
  {
   "cell_type": "code",
   "execution_count": 62,
   "id": "bb54f84d",
   "metadata": {},
   "outputs": [
    {
     "data": {
      "text/plain": [
       "array([[0.60254427, 0.39023376],\n",
       "       [0.20558444, 0.2619765 ]])"
      ]
     },
     "execution_count": 62,
     "metadata": {},
     "output_type": "execute_result"
    }
   ],
   "source": [
    "np.random.rand(2,2)            #"
   ]
  },
  {
   "cell_type": "code",
   "execution_count": 64,
   "id": "7a7733fb",
   "metadata": {},
   "outputs": [
    {
     "data": {
      "text/plain": [
       "array([[[0.50161755, 0.79514941, 0.75758667, 0.48547219, 0.57513911],\n",
       "        [0.35390227, 0.72333014, 0.29700136, 0.46562624, 0.00531716]],\n",
       "\n",
       "       [[0.01942751, 0.91826862, 0.3507652 , 0.28400151, 0.59123167],\n",
       "        [0.34501396, 0.21265316, 0.85468563, 0.95902422, 0.80108919]]])"
      ]
     },
     "execution_count": 64,
     "metadata": {},
     "output_type": "execute_result"
    }
   ],
   "source": [
    "np.random.rand(2,2,5)"
   ]
  },
  {
   "cell_type": "code",
   "execution_count": 65,
   "id": "cf235465",
   "metadata": {},
   "outputs": [
    {
     "data": {
      "text/plain": [
       "array([5.89032702, 1.38785516, 7.99454297, 2.9148008 , 5.64878031])"
      ]
     },
     "execution_count": 65,
     "metadata": {},
     "output_type": "execute_result"
    }
   ],
   "source": [
    "np.random.uniform(1,10,5)"
   ]
  },
  {
   "cell_type": "code",
   "execution_count": 53,
   "id": "61c34bde",
   "metadata": {},
   "outputs": [
    {
     "data": {
      "text/plain": [
       "33"
      ]
     },
     "execution_count": 53,
     "metadata": {},
     "output_type": "execute_result"
    }
   ],
   "source": [
    "np.random.randint(50)"
   ]
  },
  {
   "cell_type": "code",
   "execution_count": 45,
   "id": "3470b18f",
   "metadata": {},
   "outputs": [
    {
     "data": {
      "text/plain": [
       "6"
      ]
     },
     "execution_count": 45,
     "metadata": {},
     "output_type": "execute_result"
    }
   ],
   "source": [
    "np.random.randint(4,7)"
   ]
  },
  {
   "cell_type": "code",
   "execution_count": 35,
   "id": "93114c65",
   "metadata": {},
   "outputs": [
    {
     "data": {
      "text/plain": [
       "array([ 2,  5,  4, 10,  1])"
      ]
     },
     "execution_count": 35,
     "metadata": {},
     "output_type": "execute_result"
    }
   ],
   "source": [
    "np.random.randint(1,11,5)"
   ]
  }
 ],
 "metadata": {
  "kernelspec": {
   "display_name": "Python 3 (ipykernel)",
   "language": "python",
   "name": "python3"
  },
  "language_info": {
   "codemirror_mode": {
    "name": "ipython",
    "version": 3
   },
   "file_extension": ".py",
   "mimetype": "text/x-python",
   "name": "python",
   "nbconvert_exporter": "python",
   "pygments_lexer": "ipython3",
   "version": "3.11.3"
  }
 },
 "nbformat": 4,
 "nbformat_minor": 5
}
